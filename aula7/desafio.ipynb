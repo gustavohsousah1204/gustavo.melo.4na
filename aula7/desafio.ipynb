{
 "cells": [
  {
   "cell_type": "code",
   "execution_count": 55,
   "id": "4383f042",
   "metadata": {},
   "outputs": [],
   "source": [
    "import numpy as np\n",
    "import pandas as pd\n",
    "import re\n",
    "import random\n",
    "from collections import defaultdict, Counter\n",
    "import matplotlib.pyplot as plt\n",
    "%matplotlib inline\n",
    "from collections import defaultdict, Counter\n"
   ]
  },
  {
   "cell_type": "code",
   "execution_count": 56,
   "id": "3e60ddd6",
   "metadata": {},
   "outputs": [],
   "source": [
    "def limpar_texto(texto):\n",
    "    texto = texto.lower()  # Converte tudo para minúsculas\n",
    "    texto = re.sub(r'[^\\w\\s]', ' ', texto)  # Remove pontuações\n",
    "    texto = re.sub(r'\\d+', ' ', texto)      # Remove números\n",
    "    texto = re.sub(r'\\s+', ' ', texto)      # Substitui múltiplos espaços por um só\n",
    "    return texto.strip()"
   ]
  },
  {
   "cell_type": "code",
   "execution_count": 57,
   "id": "3b07bfd9",
   "metadata": {},
   "outputs": [],
   "source": [
    "texto_demo = \"\"\"\n",
    "A modelagem de linguagem natural é uma técnica importante no processamento de linguagem natural.\n",
    "Os modelos de linguagem podem ser usados para prever a próxima palavra em uma sequência.\n",
    "Existem diversos tipos de modelos de linguagem, incluindo modelos baseados em N-grams e modelos neurais.\n",
    "Os modelos baseados em N-grams são mais simples, mas ainda muito úteis em diversas aplicações.\n",
    "\"\"\""
   ]
  },
  {
   "cell_type": "code",
   "execution_count": 58,
   "id": "2cde3292",
   "metadata": {},
   "outputs": [
    {
     "name": "stdout",
     "output_type": "stream",
     "text": [
      "Quantidade de palavras: 61\n",
      "Exemplo: ['a', 'modelagem', 'de', 'linguagem', 'natural', 'é', 'uma', 'técnica', 'importante', 'no']\n"
     ]
    }
   ],
   "source": [
    "palavras = limpar_texto(texto_demo).split()\n",
    "print(\"Quantidade de palavras:\", len(palavras))\n",
    "print(\"Exemplo:\", palavras[:10])"
   ]
  },
  {
   "cell_type": "code",
   "execution_count": 59,
   "id": "83fa06f7",
   "metadata": {},
   "outputs": [],
   "source": [
    "class ModeloNGram:\n",
    "    def __init__(self, n):\n",
    "        self.n = n\n",
    "        self.contagens = defaultdict(Counter)\n",
    "        self.modelo = {}\n",
    "\n",
    "    def treinar(self, palavras):\n",
    "        for i in range(len(palavras) - self.n + 1):\n",
    "            contexto = tuple(palavras[i:i+self.n-1])\n",
    "            alvo = palavras[i+self.n-1]\n",
    "            self.contagens[contexto][alvo] += 1\n",
    "\n",
    "        for contexto, alvos in self.contagens.items():\n",
    "            total = sum(alvos.values())\n",
    "            self.modelo[contexto] = {\n",
    "                palavra: freq / total for palavra, freq in alvos.items()\n",
    "            }\n",
    "\n",
    "    def proxima_palavra(self, contexto):\n",
    "        contexto = tuple(contexto[-(self.n-1):]) if self.n > 1 else ()\n",
    "        if contexto in self.modelo:\n",
    "            palavras = list(self.modelo[contexto].keys())\n",
    "            probs = list(self.modelo[contexto].values())\n",
    "            return np.random.choice(palavras, p=probs)\n",
    "        return None\n",
    "\n",
    "    def gerar_texto(self, contexto_inicial, quantidade=15):\n",
    "        if isinstance(contexto_inicial, str):\n",
    "            contexto_inicial = contexto_inicial.split()\n",
    "        if len(contexto_inicial) < self.n - 1:\n",
    "            raise ValueError(f\"Contexto inicial deve ter pelo menos {self.n - 1} palavras\")\n",
    "        texto = list(contexto_inicial)\n",
    "        for _ in range(quantidade):\n",
    "            prox = self.proxima_palavra(texto)\n",
    "            if not prox:\n",
    "                break\n",
    "            texto.append(prox)\n",
    "        return ' '.join(texto)"
   ]
  },
  {
   "cell_type": "code",
   "execution_count": 60,
   "id": "8d363723",
   "metadata": {},
   "outputs": [],
   "source": [
    "modelo_7gram = ModeloNGram(7)\n",
    "\n",
    "modelo_7gram.treinar(palavras)\n"
   ]
  },
  {
   "cell_type": "code",
   "execution_count": 61,
   "id": "b185fe9f",
   "metadata": {},
   "outputs": [
    {
     "name": "stdout",
     "output_type": "stream",
     "text": [
      "a modelagem de linguagem natural é uma técnica importante no processamento de linguagem natural os modelos de linguagem podem ser usados para prever a próxima palavra em uma sequência existem diversos tipos de modelos de linguagem incluindo modelos baseados em n grams e modelos neurais os modelos baseados em n\n",
      "Heptagram: 1.0\n"
     ]
    }
   ],
   "source": [
    "def calcular_perplexidade(modelo, texto_teste):\n",
    "    tokens = limpar_texto(texto_teste).split()\n",
    "    log_prob = 0\n",
    "    total = 0\n",
    "    for i in range(modelo.n - 1, len(tokens)):\n",
    "        contexto = tuple(tokens[i - modelo.n + 1:i]) if modelo.n > 1 else ()\n",
    "        alvo = tokens[i]\n",
    "        prob = modelo.modelo.get(contexto, {}).get(alvo, 1e-10)\n",
    "        log_prob += np.log2(prob)\n",
    "        total += 1\n",
    "    return 2 ** (-log_prob / total) if total > 0 else float('inf')\n",
    "\n",
    "texto_teste = \" \".join(palavras[:50])\n",
    "\n",
    "print(texto_teste)\n",
    "print(\"Heptagram:\", calcular_perplexidade(modelo_7gram, texto_teste))\n",
    "contexto=['a','modelagem','de','linguagem','natural','tecnica']"
   ]
  },
  {
   "cell_type": "code",
   "execution_count": 62,
   "id": "91c734ad",
   "metadata": {},
   "outputs": [
    {
     "data": {
      "image/png": "[encoded data removed]",
      "text/plain": [
       "<Figure size 1000x500 with 1 Axes>"
      ]
     },
     "metadata": {},
     "output_type": "display_data"
    }
   ],
   "source": [
    "def mostrar_distribuicao(modelo, contexto=None):\n",
    "    if modelo.n == 1:\n",
    "        contexto = ()\n",
    "    if contexto is None or contexto not in modelo.modelo:\n",
    "        contexto = list(modelo.modelo.keys())[0]\n",
    "    palavras = list(modelo.modelo[contexto].keys())\n",
    "    probs = list(modelo.modelo[contexto].values())\n",
    "    plt.figure(figsize=(10,5))\n",
    "    plt.bar(palavras[:10], probs[:10])\n",
    "    titulo = \"Distribuição unigram\" if modelo.n == 1 else f\"Contexto: {' '.join(contexto)}\"\n",
    "    plt.title(titulo)\n",
    "    plt.ylabel(\"Probabilidade\")\n",
    "    plt.xticks(rotation=45)\n",
    "    plt.show()\n",
    "\n",
    "mostrar_distribuicao(modelo_7gram)"
   ]
  },
  {
   "cell_type": "code",
   "execution_count": 63,
   "id": "9bfaf73f",
   "metadata": {},
   "outputs": [],
   "source": [
    "def distancia_edicao(s1, s2):\n",
    "    if len(s1) < len(s2):\n",
    "        return distancia_edicao(s2, s1)\n",
    "    if len(s2) == 0:\n",
    "        return len(s1)\n",
    "    anterior = list(range(len(s2) + 1))\n",
    "    for i, c1 in enumerate(s1):\n",
    "        atual = [i + 1]\n",
    "        for j, c2 in enumerate(s2):\n",
    "            custos = [\n",
    "                anterior[j + 1] + 1,\n",
    "                atual[j] + 1,\n",
    "                anterior[j] + (c1 != c2)\n",
    "            ]\n",
    "            atual.append(min(custos))\n",
    "        anterior = atual\n",
    "    return anterior[-1]\n",
    "\n",
    "def sugerir_palavra(palavra, modelo):\n",
    "    if palavra in modelo.modelo[()]:\n",
    "        return palavra\n",
    "    candidatos = []\n",
    "    for voc in modelo.modelo[()]:\n",
    "        dist = distancia_edicao(palavra, voc)\n",
    "        if dist <= 2:\n",
    "            prob = modelo.modelo[()].get(voc, 0)\n",
    "            candidatos.append((voc, dist, prob))\n",
    "    if not candidatos:\n",
    "        return palavra\n",
    "    candidatos.sort(key=lambda x: (x[1], -x[2]))\n",
    "    return candidatos[0][0]"
   ]
  },
  {
   "cell_type": "code",
   "execution_count": 65,
   "id": "6f5922ad",
   "metadata": {},
   "outputs": [
    {
     "name": "stdout",
     "output_type": "stream",
     "text": [
      "\n",
      "Heptagram: a modelagem de linguagem natural tecnica\n"
     ]
    }
   ],
   "source": [
    "print(\"\")\n",
    "print(\"Heptagram:\", modelo_7gram.gerar_texto(contexto, 15))"
   ]
  }
 ],
 "metadata": {
  "kernelspec": {
   "display_name": "Python 3",
   "language": "python",
   "name": "python3"
  },
  "language_info": {
   "codemirror_mode": {
    "name": "ipython",
    "version": 3
   },
   "file_extension": ".py",
   "mimetype": "text/x-python",
   "name": "python",
   "nbconvert_exporter": "python",
   "pygments_lexer": "ipython3",
   "version": "3.12.1"
  }
 },
 "nbformat": 4,
 "nbformat_minor": 5
}
