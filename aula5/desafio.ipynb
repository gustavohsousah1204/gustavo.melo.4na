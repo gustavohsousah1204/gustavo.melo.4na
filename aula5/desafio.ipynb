{
 "cells": [
  {
   "cell_type": "code",
   "execution_count": 14,
   "metadata": {},
   "outputs": [],
   "source": [
    "import re\n",
    "import string\n",
    "import nltk\n",
    "from nltk.stem import WordNetLemmatizer\n",
    "from nltk.corpus import stopwords\n"
   ]
  },
  {
   "cell_type": "code",
   "execution_count": 15,
   "metadata": {},
   "outputs": [
    {
     "name": "stderr",
     "output_type": "stream",
     "text": [
      "[nltk_data] Downloading package stopwords to\n",
      "[nltk_data]     /home/codespace/nltk_data...\n",
      "[nltk_data]   Package stopwords is already up-to-date!\n",
      "[nltk_data] Downloading package wordnet to\n",
      "[nltk_data]     /home/codespace/nltk_data...\n",
      "[nltk_data]   Package wordnet is already up-to-date!\n",
      "[nltk_data] Downloading package omw-1.4 to\n",
      "[nltk_data]     /home/codespace/nltk_data...\n",
      "[nltk_data]   Package omw-1.4 is already up-to-date!\n"
     ]
    }
   ],
   "source": [
    "# Baixar recursos necessários do NLTK\n",
    "nltk.download('stopwords', download_dir='/home/codespace/nltk_data')\n",
    "nltk.download('wordnet', download_dir='/home/codespace/nltk_data')\n",
    "nltk.download('omw-1.4', download_dir='/home/codespace/nltk_data')  # Open Multilingual WordNet\n",
    "nltk.data.path.append('/home/codespace/nltk_data')"
   ]
  },
  {
   "cell_type": "code",
   "execution_count": 16,
   "metadata": {},
   "outputs": [],
   "source": [
    "def basic_cleaning(text):\n",
    "    # Converter para minúsculas\n",
    "    text = text.lower()\n",
    "    \n",
    "    # Remover pontuações\n",
    "    text = text.translate(str.maketrans('', '', string.punctuation))\n",
    "    \n",
    "    # Remover números\n",
    "    text = re.sub(r'\\d+', '', text)\n",
    "    \n",
    "    # Remover espaços extras\n",
    "    text = re.sub(r'\\s+', ' ', text).strip()\n",
    "    \n",
    "    return text"
   ]
  },
  {
   "cell_type": "code",
   "execution_count": 17,
   "metadata": {},
   "outputs": [],
   "source": [
    "def simple_tokenize(text):\n",
    "    \"\"\"\n",
    "    Tokeniza um texto dividindo por espaços\n",
    "    \"\"\"\n",
    "    return text.split()\n",
    "\n",
    "def remove_stopwords(tokens):\n",
    "    \"\"\"\n",
    "    Remove stopwords da lista de tokens\n",
    "    \"\"\"\n",
    "    stop_words = set(stopwords.words('english'))\n",
    "    return [word for word in tokens if word not in stop_words]\n",
    "\n",
    "def lemmatize_tokens(tokens):\n",
    "    \"\"\"\n",
    "    Lematiza uma lista de tokens usando WordNetLemmatizer do NLTK\n",
    "    \"\"\"\n",
    "    lemmatizer = WordNetLemmatizer()\n",
    "    return [lemmatizer.lemmatize(token) for token in tokens]"
   ]
  },
  {
   "cell_type": "code",
   "execution_count": 18,
   "metadata": {},
   "outputs": [],
   "source": [
    "lista =[\n",
    "'running',\n",
    "'better',\n",
    "'studies',\n",
    "'wolves',\n",
    "'mice',\n",
    "'children',\n",
    "'was',\n",
    "'ate',\n",
    "'swimming',\n",
    "'parties',\n",
    "'leaves',\n",
    "'knives',\n",
    "'happier',\n",
    "'studying',\n",
    "'played',\n",
    "'goes',\n",
    "'driving',\n",
    "'talked',\n",
    "]\n"
   ]
  },
  {
   "cell_type": "code",
   "execution_count": 19,
   "metadata": {},
   "outputs": [
    {
     "name": "stdout",
     "output_type": "stream",
     "text": [
      "Após lematização: ['running', 'better', 'study', 'wolf', 'mouse', 'child', 'wa', 'ate', 'swimming', 'party', 'leaf', 'knife', 'happier', 'studying', 'played', 'go', 'driving', 'talked']\n"
     ]
    }
   ],
   "source": [
    "lemmatized_tokens = lemmatize_tokens(lista)\n",
    "print(\"Após lematização:\", lemmatized_tokens)"
   ]
  },
  {
   "cell_type": "code",
   "execution_count": 20,
   "metadata": {},
   "outputs": [],
   "source": [
    "sentence01 = 'The children were playing in the leaves yesterday.'\n",
    "sentence02 = 'She studies computer science and is taking three courses.'\n",
    "sentence03 = 'The wolves howled at the moon while mice scurried in the grass.'\n",
    "sentence04 = 'He was driving faster than the cars around him.'\n",
    "sentence05 = 'The chefs used sharp knives to prepare the tastiest dishes.'"
   ]
  },
  {
   "cell_type": "code",
   "execution_count": 21,
   "metadata": {},
   "outputs": [],
   "source": [
    "def run(sentence):\n",
    "    # Etapa 1: Limpeza básica\n",
    "    cleaned_sentence = basic_cleaning(sentence)\n",
    "    print(\"Após limpeza básica:\", cleaned_sentence)\n",
    "\n",
    "    # Etapa 2: Tokenização simples\n",
    "    tokens = simple_tokenize(cleaned_sentence)\n",
    "    print(\"Após tokenização:\", tokens)\n",
    "\n",
    "    # Etapa 3: Remoção de stopwords\n",
    "    filtered_tokens = remove_stopwords(tokens)\n",
    "    print(\"Após remoção de stopwords:\", filtered_tokens)\n",
    "\n",
    "    # Etapa 4: Lematização\n",
    "    lemmatized_tokens = lemmatize_tokens(filtered_tokens)\n",
    "    print(\"Após lematização:\", lemmatized_tokens)"
   ]
  },
  {
   "cell_type": "code",
   "execution_count": 22,
   "metadata": {},
   "outputs": [
    {
     "name": "stdout",
     "output_type": "stream",
     "text": [
      "Após limpeza básica: the children were playing in the leaves yesterday\n",
      "Após tokenização: ['the', 'children', 'were', 'playing', 'in', 'the', 'leaves', 'yesterday']\n",
      "Após remoção de stopwords: ['children', 'playing', 'leaves', 'yesterday']\n",
      "Após lematização: ['child', 'playing', 'leaf', 'yesterday']\n",
      "Após limpeza básica: she studies computer science and is taking three courses\n",
      "Após tokenização: ['she', 'studies', 'computer', 'science', 'and', 'is', 'taking', 'three', 'courses']\n",
      "Após remoção de stopwords: ['studies', 'computer', 'science', 'taking', 'three', 'courses']\n",
      "Após lematização: ['study', 'computer', 'science', 'taking', 'three', 'course']\n",
      "Após limpeza básica: the wolves howled at the moon while mice scurried in the grass\n",
      "Após tokenização: ['the', 'wolves', 'howled', 'at', 'the', 'moon', 'while', 'mice', 'scurried', 'in', 'the', 'grass']\n",
      "Após remoção de stopwords: ['wolves', 'howled', 'moon', 'mice', 'scurried', 'grass']\n",
      "Após lematização: ['wolf', 'howled', 'moon', 'mouse', 'scurried', 'grass']\n",
      "Após limpeza básica: he was driving faster than the cars around him\n",
      "Após tokenização: ['he', 'was', 'driving', 'faster', 'than', 'the', 'cars', 'around', 'him']\n",
      "Após remoção de stopwords: ['driving', 'faster', 'cars', 'around']\n",
      "Após lematização: ['driving', 'faster', 'car', 'around']\n",
      "Após limpeza básica: the chefs used sharp knives to prepare the tastiest dishes\n",
      "Após tokenização: ['the', 'chefs', 'used', 'sharp', 'knives', 'to', 'prepare', 'the', 'tastiest', 'dishes']\n",
      "Após remoção de stopwords: ['chefs', 'used', 'sharp', 'knives', 'prepare', 'tastiest', 'dishes']\n",
      "Após lematização: ['chef', 'used', 'sharp', 'knife', 'prepare', 'tastiest', 'dish']\n"
     ]
    }
   ],
   "source": [
    "run(sentence01)\n",
    "run(sentence02)\n",
    "run(sentence03)\n",
    "run(sentence04)\n",
    "run(sentence05)"
   ]
  }
 ],
 "metadata": {
  "kernelspec": {
   "display_name": "Python 3",
   "language": "python",
   "name": "python3"
  },
  "language_info": {
   "codemirror_mode": {
    "name": "ipython",
    "version": 3
   },
   "file_extension": ".py",
   "mimetype": "text/x-python",
   "name": "python",
   "nbconvert_exporter": "python",
   "pygments_lexer": "ipython3",
   "version": "3.12.1"
  }
 },
 "nbformat": 4,
 "nbformat_minor": 2
}
